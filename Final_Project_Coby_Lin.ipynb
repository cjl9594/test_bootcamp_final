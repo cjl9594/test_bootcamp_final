{
  "nbformat": 4,
  "nbformat_minor": 0,
  "metadata": {
    "colab": {
      "provenance": []
    },
    "kernelspec": {
      "name": "python3",
      "display_name": "Python 3"
    },
    "language_info": {
      "name": "python"
    }
  },
  "cells": [
    {
      "cell_type": "code",
      "execution_count": null,
      "metadata": {
        "id": "MqWbyRx183s5"
      },
      "outputs": [],
      "source": [
        "from sklearn.model_selection import train_test_split\n",
        "from sklearn.pipeline import Pipeline\n",
        "from sklearn.metrics import mean_squared_error\n",
        "from sklearn.linear_model import LinearRegression, LogisticRegression\n",
        "from sklearn.neighbors import KNeighborsClassifier\n",
        "from sklearn.impute import SimpleImputer\n",
        "from sklearn.preprocessing import StandardScaler\n",
        "\n",
        "import pandas as pd\n",
        "import numpy as np\n",
        "import matplotlib.pyplot as plt\n",
        "import seaborn as sns"
      ]
    },
    {
      "cell_type": "code",
      "source": [
        "#imports the csv file\n",
        "champs = pd.read_csv('Worlds 2024 Champions Data.csv')\n",
        "champs.head()"
      ],
      "metadata": {
        "id": "PPvAKMJVZHKV",
        "colab": {
          "base_uri": "https://localhost:8080/",
          "height": 206
        },
        "outputId": "648d965c-e790-4abb-eee5-18374f7facc9"
      },
      "execution_count": null,
      "outputs": [
        {
          "output_type": "execute_result",
          "data": {
            "text/plain": [
              "  Champion  Picks  Bans Presence  Wins  Losses Winrate  KDA Avg BT        GT  \\\n",
              "0   Aurora     14    60      96%   9.0     5.0     64%  5.6    3.5  33:36:00   \n",
              "1     Yone     28    45      95%  18.0    10.0     64%  4.3    3.4  32:14:00   \n",
              "2  Skarner     32    35      87%  23.0     9.0     72%  5.7    3.9  32:02:00   \n",
              "3      Jax     35    28      82%  19.0    16.0     54%    3    5.2  34:25:00   \n",
              "4     Ashe     18    43      79%  13.0     5.0     72%  6.2    6.1  33:30:00   \n",
              "\n",
              "   CSM    DPM    GPM  CSD@15  GD@15  XPD@15  \n",
              "0  7.6  684.0  394.0    -2.6   -7.0   -94.0  \n",
              "1  9.5  645.0  442.0     5.4  303.0   265.0  \n",
              "2  5.9  346.0  338.0    -0.8   11.0    82.0  \n",
              "3  8.0  440.0  402.0    -5.1   38.0  -164.0  \n",
              "4  9.5  553.0  444.0    -2.8 -156.0    17.0  "
            ],
            "text/html": [
              "\n",
              "  <div id=\"df-4876a0a3-b5bf-41da-ac65-fcbd48ae1de6\" class=\"colab-df-container\">\n",
              "    <div>\n",
              "<style scoped>\n",
              "    .dataframe tbody tr th:only-of-type {\n",
              "        vertical-align: middle;\n",
              "    }\n",
              "\n",
              "    .dataframe tbody tr th {\n",
              "        vertical-align: top;\n",
              "    }\n",
              "\n",
              "    .dataframe thead th {\n",
              "        text-align: right;\n",
              "    }\n",
              "</style>\n",
              "<table border=\"1\" class=\"dataframe\">\n",
              "  <thead>\n",
              "    <tr style=\"text-align: right;\">\n",
              "      <th></th>\n",
              "      <th>Champion</th>\n",
              "      <th>Picks</th>\n",
              "      <th>Bans</th>\n",
              "      <th>Presence</th>\n",
              "      <th>Wins</th>\n",
              "      <th>Losses</th>\n",
              "      <th>Winrate</th>\n",
              "      <th>KDA</th>\n",
              "      <th>Avg BT</th>\n",
              "      <th>GT</th>\n",
              "      <th>CSM</th>\n",
              "      <th>DPM</th>\n",
              "      <th>GPM</th>\n",
              "      <th>CSD@15</th>\n",
              "      <th>GD@15</th>\n",
              "      <th>XPD@15</th>\n",
              "    </tr>\n",
              "  </thead>\n",
              "  <tbody>\n",
              "    <tr>\n",
              "      <th>0</th>\n",
              "      <td>Aurora</td>\n",
              "      <td>14</td>\n",
              "      <td>60</td>\n",
              "      <td>96%</td>\n",
              "      <td>9.0</td>\n",
              "      <td>5.0</td>\n",
              "      <td>64%</td>\n",
              "      <td>5.6</td>\n",
              "      <td>3.5</td>\n",
              "      <td>33:36:00</td>\n",
              "      <td>7.6</td>\n",
              "      <td>684.0</td>\n",
              "      <td>394.0</td>\n",
              "      <td>-2.6</td>\n",
              "      <td>-7.0</td>\n",
              "      <td>-94.0</td>\n",
              "    </tr>\n",
              "    <tr>\n",
              "      <th>1</th>\n",
              "      <td>Yone</td>\n",
              "      <td>28</td>\n",
              "      <td>45</td>\n",
              "      <td>95%</td>\n",
              "      <td>18.0</td>\n",
              "      <td>10.0</td>\n",
              "      <td>64%</td>\n",
              "      <td>4.3</td>\n",
              "      <td>3.4</td>\n",
              "      <td>32:14:00</td>\n",
              "      <td>9.5</td>\n",
              "      <td>645.0</td>\n",
              "      <td>442.0</td>\n",
              "      <td>5.4</td>\n",
              "      <td>303.0</td>\n",
              "      <td>265.0</td>\n",
              "    </tr>\n",
              "    <tr>\n",
              "      <th>2</th>\n",
              "      <td>Skarner</td>\n",
              "      <td>32</td>\n",
              "      <td>35</td>\n",
              "      <td>87%</td>\n",
              "      <td>23.0</td>\n",
              "      <td>9.0</td>\n",
              "      <td>72%</td>\n",
              "      <td>5.7</td>\n",
              "      <td>3.9</td>\n",
              "      <td>32:02:00</td>\n",
              "      <td>5.9</td>\n",
              "      <td>346.0</td>\n",
              "      <td>338.0</td>\n",
              "      <td>-0.8</td>\n",
              "      <td>11.0</td>\n",
              "      <td>82.0</td>\n",
              "    </tr>\n",
              "    <tr>\n",
              "      <th>3</th>\n",
              "      <td>Jax</td>\n",
              "      <td>35</td>\n",
              "      <td>28</td>\n",
              "      <td>82%</td>\n",
              "      <td>19.0</td>\n",
              "      <td>16.0</td>\n",
              "      <td>54%</td>\n",
              "      <td>3</td>\n",
              "      <td>5.2</td>\n",
              "      <td>34:25:00</td>\n",
              "      <td>8.0</td>\n",
              "      <td>440.0</td>\n",
              "      <td>402.0</td>\n",
              "      <td>-5.1</td>\n",
              "      <td>38.0</td>\n",
              "      <td>-164.0</td>\n",
              "    </tr>\n",
              "    <tr>\n",
              "      <th>4</th>\n",
              "      <td>Ashe</td>\n",
              "      <td>18</td>\n",
              "      <td>43</td>\n",
              "      <td>79%</td>\n",
              "      <td>13.0</td>\n",
              "      <td>5.0</td>\n",
              "      <td>72%</td>\n",
              "      <td>6.2</td>\n",
              "      <td>6.1</td>\n",
              "      <td>33:30:00</td>\n",
              "      <td>9.5</td>\n",
              "      <td>553.0</td>\n",
              "      <td>444.0</td>\n",
              "      <td>-2.8</td>\n",
              "      <td>-156.0</td>\n",
              "      <td>17.0</td>\n",
              "    </tr>\n",
              "  </tbody>\n",
              "</table>\n",
              "</div>\n",
              "    <div class=\"colab-df-buttons\">\n",
              "\n",
              "  <div class=\"colab-df-container\">\n",
              "    <button class=\"colab-df-convert\" onclick=\"convertToInteractive('df-4876a0a3-b5bf-41da-ac65-fcbd48ae1de6')\"\n",
              "            title=\"Convert this dataframe to an interactive table.\"\n",
              "            style=\"display:none;\">\n",
              "\n",
              "  <svg xmlns=\"http://www.w3.org/2000/svg\" height=\"24px\" viewBox=\"0 -960 960 960\">\n",
              "    <path d=\"M120-120v-720h720v720H120Zm60-500h600v-160H180v160Zm220 220h160v-160H400v160Zm0 220h160v-160H400v160ZM180-400h160v-160H180v160Zm440 0h160v-160H620v160ZM180-180h160v-160H180v160Zm440 0h160v-160H620v160Z\"/>\n",
              "  </svg>\n",
              "    </button>\n",
              "\n",
              "  <style>\n",
              "    .colab-df-container {\n",
              "      display:flex;\n",
              "      gap: 12px;\n",
              "    }\n",
              "\n",
              "    .colab-df-convert {\n",
              "      background-color: #E8F0FE;\n",
              "      border: none;\n",
              "      border-radius: 50%;\n",
              "      cursor: pointer;\n",
              "      display: none;\n",
              "      fill: #1967D2;\n",
              "      height: 32px;\n",
              "      padding: 0 0 0 0;\n",
              "      width: 32px;\n",
              "    }\n",
              "\n",
              "    .colab-df-convert:hover {\n",
              "      background-color: #E2EBFA;\n",
              "      box-shadow: 0px 1px 2px rgba(60, 64, 67, 0.3), 0px 1px 3px 1px rgba(60, 64, 67, 0.15);\n",
              "      fill: #174EA6;\n",
              "    }\n",
              "\n",
              "    .colab-df-buttons div {\n",
              "      margin-bottom: 4px;\n",
              "    }\n",
              "\n",
              "    [theme=dark] .colab-df-convert {\n",
              "      background-color: #3B4455;\n",
              "      fill: #D2E3FC;\n",
              "    }\n",
              "\n",
              "    [theme=dark] .colab-df-convert:hover {\n",
              "      background-color: #434B5C;\n",
              "      box-shadow: 0px 1px 3px 1px rgba(0, 0, 0, 0.15);\n",
              "      filter: drop-shadow(0px 1px 2px rgba(0, 0, 0, 0.3));\n",
              "      fill: #FFFFFF;\n",
              "    }\n",
              "  </style>\n",
              "\n",
              "    <script>\n",
              "      const buttonEl =\n",
              "        document.querySelector('#df-4876a0a3-b5bf-41da-ac65-fcbd48ae1de6 button.colab-df-convert');\n",
              "      buttonEl.style.display =\n",
              "        google.colab.kernel.accessAllowed ? 'block' : 'none';\n",
              "\n",
              "      async function convertToInteractive(key) {\n",
              "        const element = document.querySelector('#df-4876a0a3-b5bf-41da-ac65-fcbd48ae1de6');\n",
              "        const dataTable =\n",
              "          await google.colab.kernel.invokeFunction('convertToInteractive',\n",
              "                                                    [key], {});\n",
              "        if (!dataTable) return;\n",
              "\n",
              "        const docLinkHtml = 'Like what you see? Visit the ' +\n",
              "          '<a target=\"_blank\" href=https://colab.research.google.com/notebooks/data_table.ipynb>data table notebook</a>'\n",
              "          + ' to learn more about interactive tables.';\n",
              "        element.innerHTML = '';\n",
              "        dataTable['output_type'] = 'display_data';\n",
              "        await google.colab.output.renderOutput(dataTable, element);\n",
              "        const docLink = document.createElement('div');\n",
              "        docLink.innerHTML = docLinkHtml;\n",
              "        element.appendChild(docLink);\n",
              "      }\n",
              "    </script>\n",
              "  </div>\n",
              "\n",
              "\n",
              "    <div id=\"df-958979a6-6d22-4358-a9a6-470c987f2244\">\n",
              "      <button class=\"colab-df-quickchart\" onclick=\"quickchart('df-958979a6-6d22-4358-a9a6-470c987f2244')\"\n",
              "                title=\"Suggest charts\"\n",
              "                style=\"display:none;\">\n",
              "\n",
              "<svg xmlns=\"http://www.w3.org/2000/svg\" height=\"24px\"viewBox=\"0 0 24 24\"\n",
              "     width=\"24px\">\n",
              "    <g>\n",
              "        <path d=\"M19 3H5c-1.1 0-2 .9-2 2v14c0 1.1.9 2 2 2h14c1.1 0 2-.9 2-2V5c0-1.1-.9-2-2-2zM9 17H7v-7h2v7zm4 0h-2V7h2v10zm4 0h-2v-4h2v4z\"/>\n",
              "    </g>\n",
              "</svg>\n",
              "      </button>\n",
              "\n",
              "<style>\n",
              "  .colab-df-quickchart {\n",
              "      --bg-color: #E8F0FE;\n",
              "      --fill-color: #1967D2;\n",
              "      --hover-bg-color: #E2EBFA;\n",
              "      --hover-fill-color: #174EA6;\n",
              "      --disabled-fill-color: #AAA;\n",
              "      --disabled-bg-color: #DDD;\n",
              "  }\n",
              "\n",
              "  [theme=dark] .colab-df-quickchart {\n",
              "      --bg-color: #3B4455;\n",
              "      --fill-color: #D2E3FC;\n",
              "      --hover-bg-color: #434B5C;\n",
              "      --hover-fill-color: #FFFFFF;\n",
              "      --disabled-bg-color: #3B4455;\n",
              "      --disabled-fill-color: #666;\n",
              "  }\n",
              "\n",
              "  .colab-df-quickchart {\n",
              "    background-color: var(--bg-color);\n",
              "    border: none;\n",
              "    border-radius: 50%;\n",
              "    cursor: pointer;\n",
              "    display: none;\n",
              "    fill: var(--fill-color);\n",
              "    height: 32px;\n",
              "    padding: 0;\n",
              "    width: 32px;\n",
              "  }\n",
              "\n",
              "  .colab-df-quickchart:hover {\n",
              "    background-color: var(--hover-bg-color);\n",
              "    box-shadow: 0 1px 2px rgba(60, 64, 67, 0.3), 0 1px 3px 1px rgba(60, 64, 67, 0.15);\n",
              "    fill: var(--button-hover-fill-color);\n",
              "  }\n",
              "\n",
              "  .colab-df-quickchart-complete:disabled,\n",
              "  .colab-df-quickchart-complete:disabled:hover {\n",
              "    background-color: var(--disabled-bg-color);\n",
              "    fill: var(--disabled-fill-color);\n",
              "    box-shadow: none;\n",
              "  }\n",
              "\n",
              "  .colab-df-spinner {\n",
              "    border: 2px solid var(--fill-color);\n",
              "    border-color: transparent;\n",
              "    border-bottom-color: var(--fill-color);\n",
              "    animation:\n",
              "      spin 1s steps(1) infinite;\n",
              "  }\n",
              "\n",
              "  @keyframes spin {\n",
              "    0% {\n",
              "      border-color: transparent;\n",
              "      border-bottom-color: var(--fill-color);\n",
              "      border-left-color: var(--fill-color);\n",
              "    }\n",
              "    20% {\n",
              "      border-color: transparent;\n",
              "      border-left-color: var(--fill-color);\n",
              "      border-top-color: var(--fill-color);\n",
              "    }\n",
              "    30% {\n",
              "      border-color: transparent;\n",
              "      border-left-color: var(--fill-color);\n",
              "      border-top-color: var(--fill-color);\n",
              "      border-right-color: var(--fill-color);\n",
              "    }\n",
              "    40% {\n",
              "      border-color: transparent;\n",
              "      border-right-color: var(--fill-color);\n",
              "      border-top-color: var(--fill-color);\n",
              "    }\n",
              "    60% {\n",
              "      border-color: transparent;\n",
              "      border-right-color: var(--fill-color);\n",
              "    }\n",
              "    80% {\n",
              "      border-color: transparent;\n",
              "      border-right-color: var(--fill-color);\n",
              "      border-bottom-color: var(--fill-color);\n",
              "    }\n",
              "    90% {\n",
              "      border-color: transparent;\n",
              "      border-bottom-color: var(--fill-color);\n",
              "    }\n",
              "  }\n",
              "</style>\n",
              "\n",
              "      <script>\n",
              "        async function quickchart(key) {\n",
              "          const quickchartButtonEl =\n",
              "            document.querySelector('#' + key + ' button');\n",
              "          quickchartButtonEl.disabled = true;  // To prevent multiple clicks.\n",
              "          quickchartButtonEl.classList.add('colab-df-spinner');\n",
              "          try {\n",
              "            const charts = await google.colab.kernel.invokeFunction(\n",
              "                'suggestCharts', [key], {});\n",
              "          } catch (error) {\n",
              "            console.error('Error during call to suggestCharts:', error);\n",
              "          }\n",
              "          quickchartButtonEl.classList.remove('colab-df-spinner');\n",
              "          quickchartButtonEl.classList.add('colab-df-quickchart-complete');\n",
              "        }\n",
              "        (() => {\n",
              "          let quickchartButtonEl =\n",
              "            document.querySelector('#df-958979a6-6d22-4358-a9a6-470c987f2244 button');\n",
              "          quickchartButtonEl.style.display =\n",
              "            google.colab.kernel.accessAllowed ? 'block' : 'none';\n",
              "        })();\n",
              "      </script>\n",
              "    </div>\n",
              "\n",
              "    </div>\n",
              "  </div>\n"
            ],
            "application/vnd.google.colaboratory.intrinsic+json": {
              "type": "dataframe",
              "variable_name": "champs",
              "summary": "{\n  \"name\": \"champs\",\n  \"rows\": 168,\n  \"fields\": [\n    {\n      \"column\": \"Champion\",\n      \"properties\": {\n        \"dtype\": \"string\",\n        \"num_unique_values\": 168,\n        \"samples\": [\n          \"Veigar\",\n          \"Neeko\",\n          \"Quinn\"\n        ],\n        \"semantic_type\": \"\",\n        \"description\": \"\"\n      }\n    },\n    {\n      \"column\": \"Picks\",\n      \"properties\": {\n        \"dtype\": \"number\",\n        \"std\": 8,\n        \"min\": 0,\n        \"max\": 42,\n        \"num_unique_values\": 31,\n        \"samples\": [\n          7,\n          21,\n          5\n        ],\n        \"semantic_type\": \"\",\n        \"description\": \"\"\n      }\n    },\n    {\n      \"column\": \"Bans\",\n      \"properties\": {\n        \"dtype\": \"number\",\n        \"std\": 9,\n        \"min\": 0,\n        \"max\": 60,\n        \"num_unique_values\": 30,\n        \"samples\": [\n          1,\n          17,\n          10\n        ],\n        \"semantic_type\": \"\",\n        \"description\": \"\"\n      }\n    },\n    {\n      \"column\": \"Presence\",\n      \"properties\": {\n        \"dtype\": \"category\",\n        \"num_unique_values\": 40,\n        \"samples\": [\n          \"30%\",\n          \"35%\",\n          \"39%\"\n        ],\n        \"semantic_type\": \"\",\n        \"description\": \"\"\n      }\n    },\n    {\n      \"column\": \"Wins\",\n      \"properties\": {\n        \"dtype\": \"number\",\n        \"std\": 5.49165515430361,\n        \"min\": 0.0,\n        \"max\": 23.0,\n        \"num_unique_values\": 20,\n        \"samples\": [\n          9.0,\n          0.0,\n          7.0\n        ],\n        \"semantic_type\": \"\",\n        \"description\": \"\"\n      }\n    },\n    {\n      \"column\": \"Losses\",\n      \"properties\": {\n        \"dtype\": \"number\",\n        \"std\": 4.737154132489861,\n        \"min\": 0.0,\n        \"max\": 22.0,\n        \"num_unique_values\": 17,\n        \"samples\": [\n          5.0,\n          10.0,\n          7.0\n        ],\n        \"semantic_type\": \"\",\n        \"description\": \"\"\n      }\n    },\n    {\n      \"column\": \"Winrate\",\n      \"properties\": {\n        \"dtype\": \"category\",\n        \"num_unique_values\": 28,\n        \"samples\": [\n          \"27%\",\n          \"75%\",\n          \"42%\"\n        ],\n        \"semantic_type\": \"\",\n        \"description\": \"\"\n      }\n    },\n    {\n      \"column\": \"KDA\",\n      \"properties\": {\n        \"dtype\": \"category\",\n        \"num_unique_values\": 50,\n        \"samples\": [\n          \"1.6\",\n          \"12\",\n          \"3.5\"\n        ],\n        \"semantic_type\": \"\",\n        \"description\": \"\"\n      }\n    },\n    {\n      \"column\": \"Avg BT\",\n      \"properties\": {\n        \"dtype\": \"category\",\n        \"num_unique_values\": 37,\n        \"samples\": [\n          \"9\",\n          \"4\",\n          \"6.1\"\n        ],\n        \"semantic_type\": \"\",\n        \"description\": \"\"\n      }\n    },\n    {\n      \"column\": \"GT\",\n      \"properties\": {\n        \"dtype\": \"category\",\n        \"num_unique_values\": 78,\n        \"samples\": [\n          \"37:46:00\",\n          \"33:36:00\",\n          \"34:35:00\"\n        ],\n        \"semantic_type\": \"\",\n        \"description\": \"\"\n      }\n    },\n    {\n      \"column\": \"CSM\",\n      \"properties\": {\n        \"dtype\": \"number\",\n        \"std\": 2.922884142415898,\n        \"min\": 0.7,\n        \"max\": 10.4,\n        \"num_unique_values\": 49,\n        \"samples\": [\n          1.2,\n          1.3,\n          1.5\n        ],\n        \"semantic_type\": \"\",\n        \"description\": \"\"\n      }\n    },\n    {\n      \"column\": \"DPM\",\n      \"properties\": {\n        \"dtype\": \"number\",\n        \"std\": 214.60632363704204,\n        \"min\": 80.0,\n        \"max\": 1063.0,\n        \"num_unique_values\": 81,\n        \"samples\": [\n          528.0,\n          684.0,\n          664.0\n        ],\n        \"semantic_type\": \"\",\n        \"description\": \"\"\n      }\n    },\n    {\n      \"column\": \"GPM\",\n      \"properties\": {\n        \"dtype\": \"number\",\n        \"std\": 72.02749133160158,\n        \"min\": 217.0,\n        \"max\": 512.0,\n        \"num_unique_values\": 75,\n        \"samples\": [\n          444.0,\n          306.0,\n          443.0\n        ],\n        \"semantic_type\": \"\",\n        \"description\": \"\"\n      }\n    },\n    {\n      \"column\": \"CSD@15\",\n      \"properties\": {\n        \"dtype\": \"number\",\n        \"std\": 9.442315327368075,\n        \"min\": -28.0,\n        \"max\": 27.0,\n        \"num_unique_values\": 70,\n        \"samples\": [\n          -0.6,\n          -2.6,\n          -4.5\n        ],\n        \"semantic_type\": \"\",\n        \"description\": \"\"\n      }\n    },\n    {\n      \"column\": \"GD@15\",\n      \"properties\": {\n        \"dtype\": \"number\",\n        \"std\": 501.98323177122177,\n        \"min\": -995.0,\n        \"max\": 1544.0,\n        \"num_unique_values\": 85,\n        \"samples\": [\n          -444.0,\n          -7.0,\n          497.0\n        ],\n        \"semantic_type\": \"\",\n        \"description\": \"\"\n      }\n    },\n    {\n      \"column\": \"XPD@15\",\n      \"properties\": {\n        \"dtype\": \"number\",\n        \"std\": 457.77635564985843,\n        \"min\": -1226.0,\n        \"max\": 1302.0,\n        \"num_unique_values\": 82,\n        \"samples\": [\n          512.0,\n          -94.0,\n          106.0\n        ],\n        \"semantic_type\": \"\",\n        \"description\": \"\"\n      }\n    }\n  ]\n}"
            }
          },
          "metadata": {},
          "execution_count": 383
        }
      ]
    },
    {
      "cell_type": "code",
      "source": [
        "#if the value is not an object, convert the value to a decimal\n",
        "if champs['Presence'].dtype != object:\n",
        "    # If Presence column is already numeric, divide by 100 if greater than 1\n",
        "    if champs['Presence'].max() > 1:\n",
        "        champs['Presence'] = champs['Presence'] / 100\n",
        "else:\n",
        "    # If Presence column is string type, apply stripping and type conversion\n",
        "    champs['Presence'] = champs['Presence'].str.rstrip('%').astype(float) / 100\n",
        "#drops champions if they are below 10 games played\n",
        "for index, row in champs.iterrows():\n",
        "    if row['Picks'] <= 10:\n",
        "        champs.drop(index, inplace=True)\n",
        "#inverses the average build time to make an indirect relationship\n",
        "champs['Inverse_Avg_BT'] = 1 / champs['Avg BT']\n",
        "X = champs[['Wins', 'Inverse_Avg_BT']]\n",
        "y = champs['Presence']\n",
        "#creates a train-test split\n",
        "X_train, X_test, y_train, y_test = train_test_split(X, y, random_state=42)"
      ],
      "metadata": {
        "id": "dyxrGxSWTtH0"
      },
      "execution_count": null,
      "outputs": []
    },
    {
      "cell_type": "code",
      "source": [
        "#makes a pipeline that scales the data and creates a linear regression model\n",
        "pipe = Pipeline([\n",
        "    ('scaler', StandardScaler()),\n",
        "    ('model', LinearRegression())\n",
        "\n",
        "])"
      ],
      "metadata": {
        "id": "AGx5awHjG601"
      },
      "execution_count": null,
      "outputs": []
    },
    {
      "cell_type": "code",
      "source": [
        "#fits the model\n",
        "model1 = pipe.fit(X_train, y_train)"
      ],
      "metadata": {
        "id": "r6iJXUhwHGb5"
      },
      "execution_count": null,
      "outputs": []
    },
    {
      "cell_type": "code",
      "source": [
        "#scores the model\n",
        "model1.score(X_test, y_test)"
      ],
      "metadata": {
        "colab": {
          "base_uri": "https://localhost:8080/"
        },
        "id": "WDCwZ7DYPKGD",
        "outputId": "19f7b293-4887-4f11-aa11-5a2f4e513482"
      },
      "execution_count": null,
      "outputs": [
        {
          "output_type": "execute_result",
          "data": {
            "text/plain": [
              "0.4560454159010323"
            ]
          },
          "metadata": {},
          "execution_count": 731
        }
      ]
    },
    {
      "cell_type": "code",
      "source": [
        "#states the mean squared error\n",
        "MSE = mean_squared_error(y_test, model1.predict(X_test))\n",
        "MSE"
      ],
      "metadata": {
        "colab": {
          "base_uri": "https://localhost:8080/"
        },
        "id": "nlNROEF8HPtc",
        "outputId": "16a820b4-9639-43d2-e56b-1a2c2a48a93f"
      },
      "execution_count": null,
      "outputs": [
        {
          "output_type": "execute_result",
          "data": {
            "text/plain": [
              "0.022992280326633238"
            ]
          },
          "metadata": {},
          "execution_count": 732
        }
      ]
    },
    {
      "cell_type": "code",
      "source": [
        "#makes the same model using KDA column\n",
        "X = champs[['Wins', 'Inverse_Avg_BT', 'KDA']]\n",
        "y = champs['Presence']\n",
        "X_train, X_test, y_train, y_test = train_test_split(X, y, random_state=42)\n",
        "pipe = Pipeline([\n",
        "    ('scaler', StandardScaler()),\n",
        "    ('model', LinearRegression())\n",
        "\n",
        "])\n",
        "model1 = pipe.fit(X_train, y_train)"
      ],
      "metadata": {
        "id": "fpl059q0XOVt"
      },
      "execution_count": null,
      "outputs": []
    },
    {
      "cell_type": "code",
      "source": [
        "model1.score(X_test, y_test)"
      ],
      "metadata": {
        "colab": {
          "base_uri": "https://localhost:8080/"
        },
        "id": "foSxYFhbXYFr",
        "outputId": "53766c7f-b0fb-4b17-a67d-f1beaff94442"
      },
      "execution_count": null,
      "outputs": [
        {
          "output_type": "execute_result",
          "data": {
            "text/plain": [
              "0.48604835015112424"
            ]
          },
          "metadata": {},
          "execution_count": 734
        }
      ]
    },
    {
      "cell_type": "code",
      "source": [
        "MSE = mean_squared_error(y_test, model1.predict(X_test))\n",
        "MSE"
      ],
      "metadata": {
        "colab": {
          "base_uri": "https://localhost:8080/"
        },
        "id": "F-Lz49YnXZiv",
        "outputId": "fcc5eaed-eb37-4ece-db01-c9a023edb5ad"
      },
      "execution_count": null,
      "outputs": [
        {
          "output_type": "execute_result",
          "data": {
            "text/plain": [
              "0.021724093799549662"
            ]
          },
          "metadata": {},
          "execution_count": 735
        }
      ]
    },
    {
      "cell_type": "code",
      "source": [
        "#makes a baseline using the mean of the Presence column\n",
        "baseline = champs['Presence'].mean()\n",
        "baseline"
      ],
      "metadata": {
        "colab": {
          "base_uri": "https://localhost:8080/"
        },
        "id": "9m07fCq0HXRh",
        "outputId": "21cf8b43-080b-4e20-aee5-60113572d413"
      },
      "execution_count": null,
      "outputs": [
        {
          "output_type": "execute_result",
          "data": {
            "text/plain": [
              "np.float64(0.5344827586206896)"
            ]
          },
          "metadata": {},
          "execution_count": 710
        }
      ]
    },
    {
      "cell_type": "code",
      "source": [
        "from sklearn.neighbors import KNeighborsRegressor"
      ],
      "metadata": {
        "id": "DgDbzqV9Hh7H"
      },
      "execution_count": null,
      "outputs": []
    },
    {
      "cell_type": "code",
      "source": [
        "#makes a KNN model of the same data\n",
        "XKNN = champs[['Wins', 'Inverse_Avg_BT']]\n",
        "yKNN = champs['Presence']\n",
        "\n",
        "XKNN_train, XKNN_test, yKNN_train, yKNN_test = train_test_split(XKNN, yKNN, random_state=42)\n",
        "\n",
        "pipe2 = Pipeline([\n",
        "    ('scaler2', StandardScaler()),\n",
        "    ('model2', KNeighborsRegressor())\n",
        "])"
      ],
      "metadata": {
        "id": "i4XGD_ISPrMq"
      },
      "execution_count": null,
      "outputs": []
    },
    {
      "cell_type": "code",
      "source": [
        "model2 = pipe2.fit(XKNN_train, yKNN_train)"
      ],
      "metadata": {
        "id": "8RSX2Mc3PAcZ"
      },
      "execution_count": null,
      "outputs": []
    },
    {
      "cell_type": "code",
      "source": [
        "model2.score(XKNN_test, yKNN_test)"
      ],
      "metadata": {
        "colab": {
          "base_uri": "https://localhost:8080/"
        },
        "id": "xlIpIb25PDNm",
        "outputId": "a316038d-64bf-4d8a-8f08-c51c557792c4"
      },
      "execution_count": null,
      "outputs": [
        {
          "output_type": "execute_result",
          "data": {
            "text/plain": [
              "0.4716309330178913"
            ]
          },
          "metadata": {},
          "execution_count": 738
        }
      ]
    },
    {
      "cell_type": "code",
      "source": [
        "MSE2 = mean_squared_error(yKNN_test, model2.predict(XKNN_test))\n",
        "MSE2"
      ],
      "metadata": {
        "colab": {
          "base_uri": "https://localhost:8080/"
        },
        "id": "TU1bTv6MPFzZ",
        "outputId": "552affd0-1c77-4bfa-f01d-a255d79eea3d"
      },
      "execution_count": null,
      "outputs": [
        {
          "output_type": "execute_result",
          "data": {
            "text/plain": [
              "0.022333500000000003"
            ]
          },
          "metadata": {},
          "execution_count": 739
        }
      ]
    },
    {
      "cell_type": "code",
      "source": [
        "#adds the KDA column\n",
        "XKNN = champs[['Wins', 'Inverse_Avg_BT', 'KDA']]\n",
        "yKNN = champs['Presence']\n",
        "\n",
        "XKNN_train, XKNN_test, yKNN_train, yKNN_test = train_test_split(XKNN, yKNN, random_state=42)\n",
        "\n",
        "pipe2 = Pipeline([\n",
        "    ('scaler2', StandardScaler()),\n",
        "    ('model2', KNeighborsRegressor())\n",
        "])"
      ],
      "metadata": {
        "id": "WqIBoCK8XlvX"
      },
      "execution_count": null,
      "outputs": []
    },
    {
      "cell_type": "code",
      "source": [
        "model2 = pipe2.fit(XKNN_train, yKNN_train)"
      ],
      "metadata": {
        "id": "fQFdWZ0_XqaB"
      },
      "execution_count": null,
      "outputs": []
    },
    {
      "cell_type": "code",
      "source": [
        "model2.score(XKNN_test, yKNN_test)"
      ],
      "metadata": {
        "colab": {
          "base_uri": "https://localhost:8080/"
        },
        "id": "gBbMM5bQXsFd",
        "outputId": "f920bad3-4de5-4c72-f122-de402da4e762"
      },
      "execution_count": null,
      "outputs": [
        {
          "output_type": "execute_result",
          "data": {
            "text/plain": [
              "0.7082951352949874"
            ]
          },
          "metadata": {},
          "execution_count": 742
        }
      ]
    },
    {
      "cell_type": "code",
      "source": [
        "MSE2 = mean_squared_error(yKNN_test, model2.predict(XKNN_test))\n",
        "MSE2"
      ],
      "metadata": {
        "colab": {
          "base_uri": "https://localhost:8080/"
        },
        "id": "zpRW9xr9Xt5W",
        "outputId": "934e62a6-8371-41f9-8ae8-1602ddaf93ed"
      },
      "execution_count": null,
      "outputs": [
        {
          "output_type": "execute_result",
          "data": {
            "text/plain": [
              "0.012329999999999997"
            ]
          },
          "metadata": {},
          "execution_count": 743
        }
      ]
    },
    {
      "cell_type": "code",
      "source": [
        "#makes a RandomForest model\n",
        "from sklearn.ensemble import RandomForestRegressor\n",
        "XForest = champs[['Wins', 'Inverse_Avg_BT']]\n",
        "yForest = champs['Presence']\n",
        "\n",
        "XForest_train, XForest_test, yForest_train, yForest_test = train_test_split(XForest, yForest, random_state=42)\n",
        "pipe3 = Pipeline([\n",
        "    ('scaler3', StandardScaler()),\n",
        "    ('model3', RandomForestRegressor())\n",
        "])"
      ],
      "metadata": {
        "id": "nyA3iWc9PNbu"
      },
      "execution_count": null,
      "outputs": []
    },
    {
      "cell_type": "code",
      "source": [
        "model3 = pipe3.fit(XForest_train, yForest_train)"
      ],
      "metadata": {
        "id": "cl1mPijsbFuo"
      },
      "execution_count": null,
      "outputs": []
    },
    {
      "cell_type": "code",
      "source": [
        "model3.score(XForest_test, yForest_test)"
      ],
      "metadata": {
        "colab": {
          "base_uri": "https://localhost:8080/"
        },
        "id": "PUbMnj5vbHLI",
        "outputId": "4895eb77-85f1-45f2-9529-98fde31f9ad0"
      },
      "execution_count": null,
      "outputs": [
        {
          "output_type": "execute_result",
          "data": {
            "text/plain": [
              "0.1798802898122155"
            ]
          },
          "metadata": {},
          "execution_count": 758
        }
      ]
    },
    {
      "cell_type": "code",
      "source": [
        "MSE3 = mean_squared_error(yForest_test, model3.predict(XForest_test))\n",
        "MSE3"
      ],
      "metadata": {
        "colab": {
          "base_uri": "https://localhost:8080/"
        },
        "id": "d3q5mSRtbJTT",
        "outputId": "7e0e0540-d7c8-4603-89e0-b54e23fcd27b"
      },
      "execution_count": null,
      "outputs": [
        {
          "output_type": "execute_result",
          "data": {
            "text/plain": [
              "0.03466543499999991"
            ]
          },
          "metadata": {},
          "execution_count": 759
        }
      ]
    },
    {
      "cell_type": "code",
      "source": [
        "#adds the KDA column to the model\n",
        "XForest = champs[['Wins', 'Inverse_Avg_BT', 'KDA']]\n",
        "yForest = champs['Presence']\n",
        "\n",
        "XForest_train, XForest_test, yForest_train, yForest_test = train_test_split(XForest, yForest, random_state=42)\n",
        "pipe3 = Pipeline([\n",
        "    ('scaler3', StandardScaler()),\n",
        "    ('model3', RandomForestRegressor())\n",
        "])"
      ],
      "metadata": {
        "id": "i-FncAQhYAgd"
      },
      "execution_count": null,
      "outputs": []
    },
    {
      "cell_type": "code",
      "source": [
        "model3 = pipe3.fit(XForest_train, yForest_train)"
      ],
      "metadata": {
        "id": "bIGQEp99YDxb"
      },
      "execution_count": null,
      "outputs": []
    },
    {
      "cell_type": "code",
      "source": [
        "model3.score(XForest_test, yForest_test)"
      ],
      "metadata": {
        "colab": {
          "base_uri": "https://localhost:8080/"
        },
        "id": "hRJ7i6bPYEmI",
        "outputId": "6066b8e5-b7e1-4498-92b6-a76b5b1c57d4"
      },
      "execution_count": null,
      "outputs": [
        {
          "output_type": "execute_result",
          "data": {
            "text/plain": [
              "0.22241452018335062"
            ]
          },
          "metadata": {},
          "execution_count": 781
        }
      ]
    },
    {
      "cell_type": "code",
      "source": [
        "MSE3 = mean_squared_error(yForest_test, model3.predict(XForest_test))\n",
        "MSE3"
      ],
      "metadata": {
        "colab": {
          "base_uri": "https://localhost:8080/"
        },
        "id": "akWcRz2VYFXX",
        "outputId": "8a34ef46-b6d1-442a-f6cc-90e239ff7058"
      },
      "execution_count": null,
      "outputs": [
        {
          "output_type": "execute_result",
          "data": {
            "text/plain": [
              "0.032867566249999994"
            ]
          },
          "metadata": {},
          "execution_count": 782
        }
      ]
    }
  ]
}